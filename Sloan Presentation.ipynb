{
 "cells": [
  {
   "cell_type": "markdown",
   "metadata": {
    "slideshow": {
     "slide_type": "slide"
    }
   },
   "source": [
    "<center><img src=https://www.urban.org/sites/all/themes/urban/images/logo.png></center>\n",
    "\n",
    "-------\n",
    "\n",
    "<h1><center> Spark for Social Science</center></h1>\n",
    "\n",
    "<h3><center><i>Funded by the Alfred P. Sloan Foundation</i></center>\n",
    "<center><i>October 17th, 2017</i></center></h3>\n",
    "\n",
    "<h3><center>Jeff Levy (jlevy@urban.org)</center></h3>"
   ]
  },
  {
   "cell_type": "markdown",
   "metadata": {
    "slideshow": {
     "slide_type": "subslide"
    }
   },
   "source": [
    "<h1>Agenda</h1>\n",
    "\n",
    "--------\n",
    "\n",
    "<center>\n",
    "<h2>\n",
    "<br>\n",
    "Who am I?<br>\n",
    "<br>\n",
    "What is this project?<br>\n",
    "<br>\n",
    "What is Spark and why should I use it?<br>\n",
    "<br>\n",
    "How to use Spark<br>\n",
    "<br>\n",
    "Challenges for social scientists<br>\n",
    "<br>\n",
    "Where to access it<br>\n",
    "</h2>\n",
    "  \n",
    "</center>"
   ]
  },
  {
   "cell_type": "markdown",
   "metadata": {
    "slideshow": {
     "slide_type": "slide"
    }
   },
   "source": [
    "<h1>Who am I?<br>\n",
    "\n",
    "  * Hello, I'm Jeff\n",
    "  * Research Programer at Urban\n",
    "  * PhD Candidate, Economics, American University"
   ]
  },
  {
   "cell_type": "markdown",
   "metadata": {
    "slideshow": {
     "slide_type": "slide"
    }
   },
   "source": [
    "<h1>Why are we interested?<br>\n",
    "\n",
    "  * Big data\n",
    "  * Small budget\n",
    "  * Programming skills in traditional platforms (e.g. Stata, SAS)\n",
    "  * Econometrics\n",
    "  * Don't speak data scientist"
   ]
  },
  {
   "cell_type": "markdown",
   "metadata": {
    "slideshow": {
     "slide_type": "subslide"
    }
   },
   "source": [
    "<h1>\"Big\" data?<br>\n",
    "\n",
    "  * Can't browse it in Excel?\n",
    "  * Can't open it on your computer?\n",
    "  * A hassle\n",
    "  \n",
    "  \n",
    "  * Rows measured in the billions\n",
    "  * Hundreds of columns\n",
    "  * Gigabytes, terabytes, or even petabytes in size"
   ]
  },
  {
   "cell_type": "markdown",
   "metadata": {
    "slideshow": {
     "slide_type": "subslide"
    }
   },
   "source": [
    "<h1>\"Small\" budget?<br>\n",
    "\n",
    "  * Note to self: delete this slide; they all know this"
   ]
  },
  {
   "cell_type": "markdown",
   "metadata": {
    "slideshow": {
     "slide_type": "subslide"
    }
   },
   "source": [
    "<h1>\"Traditional\" platforms?<br>\n",
    "\n",
    "  * SAS, Stata, EViews, SPSS are limited\n",
    "  * SAS, Stata, EViews, SPSS are expensive\n",
    "  * SAS, Stata, EViews, SPSS are *what everyone knows*\n",
    "  \n",
    "  \n",
    "  * Our solution can't require very advanced or low-level programming languages"
   ]
  },
  {
   "cell_type": "markdown",
   "metadata": {
    "slideshow": {
     "slide_type": "subslide"
    }
   },
   "source": [
    "<h1>Data science and econometrics<br>\n",
    "\n",
    "  * Social scientists and data scientists speak different languages!\n",
    "  * Big data in general leans heavily toward data science and machine learning\n",
    "  * We need econometrics"
   ]
  },
  {
   "cell_type": "code",
   "execution_count": 5,
   "metadata": {
    "collapsed": true,
    "slideshow": {
     "slide_type": "skip"
    }
   },
   "outputs": [],
   "source": [
    "from IPython.display import Image"
   ]
  },
  {
   "cell_type": "markdown",
   "metadata": {
    "slideshow": {
     "slide_type": "slide"
    }
   },
   "source": [
    "<img src=https://spark.apache.org/images/spark-logo-trademark.png>\n",
    "\n",
    "------\n",
    "\n",
    "![Spark Diagram](img/spark.png)"
   ]
  },
  {
   "cell_type": "markdown",
   "metadata": {
    "slideshow": {
     "slide_type": "subslide"
    }
   },
   "source": [
    "<h1>What is Spark on AWS?<br>\n",
    "  * Distributed\n",
    "  * Fault tolerant\n",
    "  * Open source\n",
    "  * Scalable\n",
    "  * Common programming languages\n",
    "  * Web interface\n",
    "  * Secure (FedRamp compliant)"
   ]
  },
  {
   "cell_type": "markdown",
   "metadata": {
    "slideshow": {
     "slide_type": "subslide"
    }
   },
   "source": [
    "<h1>Spark workflow<br>\n",
    "\n",
    "<img src=\"img/distributed.png\" alt=\"Spark\" style=\"width: 400px;\"/>\n"
   ]
  },
  {
   "cell_type": "markdown",
   "metadata": {
    "slideshow": {
     "slide_type": "subslide"
    }
   },
   "source": [
    "<h1>About that budget...<br>\n",
    "\n",
    "  * ~1 terrabyte of memory\n",
    "  * 128 CPUs\n",
    "  * ~1 terrabyte of storage space\n",
    "  * ... ~$10 per hour\n",
    "  \n",
    "  \n",
    "And that's just one possible configuration:\n",
    "  \n",
    "<a href=\"https://aws.amazon.com/ec2/pricing/on-demand/\">Amazon EC2 Pricing</a>"
   ]
  },
  {
   "cell_type": "markdown",
   "metadata": {
    "slideshow": {
     "slide_type": "subslide"
    }
   },
   "source": [
    "<h1>What does Dell have to say?<br>\n",
    "\n",
    "  * ~160 gigabytes of memory\n",
    "  * 4 CPU cores\n",
    "  * 960 gigabytes of storage space\n",
    "\n",
    "<img src=\"img/dell.png\" alt=\"Spark\" style=\"width: 200px;\"/>"
   ]
  },
  {
   "cell_type": "markdown",
   "metadata": {
    "slideshow": {
     "slide_type": "subslide"
    }
   },
   "source": [
    "<h1>Spark Language APIs<br>\n",
    "\n",
    "<img src=https://www.python.org/static/community_logos/python-logo-master-v3-TM.png>\n",
    "<img src=https://www.r-project.org/Rlogo.png>"
   ]
  },
  {
   "cell_type": "markdown",
   "metadata": {
    "slideshow": {
     "slide_type": "slide"
    }
   },
   "source": [
    "<h1>How do I use Spark?<h1>\n",
    "\n",
    "  * All of the distributed work is handled behind the scenes\n",
    "  * You write code in Python or R\n",
    "  * Both are easy to use, common, open-source and powerful\n",
    "  * Both access the same underlying framework, and so perform nearly identically."
   ]
  },
  {
   "cell_type": "markdown",
   "metadata": {
    "slideshow": {
     "slide_type": "subslide"
    }
   },
   "source": [
    "![Spark Diagram](img/so.png)\n",
    "\n",
    "*Source: Annual 2017 StackOverflow survey of over 64,000 developers*"
   ]
  },
  {
   "cell_type": "markdown",
   "metadata": {
    "slideshow": {
     "slide_type": "subslide"
    }
   },
   "source": [
    "<h2>Python:</h2>\n",
    "\n",
    "<a href=\"https://github.com/UrbanInstitute/pyspark-tutorials\">Urban's pySpark Tutorials</a>\n",
    "\n",
    "```python\n",
    "df = spark.read.csv('s3://ui-spark-social-science-public/data/Performance_2015Q1.txt', \n",
    "                    header=False, \n",
    "                    inferSchema=True, \n",
    "                    sep='|')\n",
    "```\n",
    "\n",
    "<h2>R:</h2>\n",
    "\n",
    "<a href=\"https://github.com/UrbanInstitute/sparkr-tutorials\">Urban's SparkR Tutorials</a>\n",
    "\n",
    "```r\n",
    "df <- read.df(\"s3://ui-spark-social-science-public/data/Performance_2000Q1.txt\", \n",
    "\t\t\t  header = \"false\", \n",
    "              delimiter = \"|\", \n",
    "              source = \"csv\", \n",
    "\t\t\t  inferSchema = \"true\")\n",
    "```"
   ]
  },
  {
   "cell_type": "markdown",
   "metadata": {
    "slideshow": {
     "slide_type": "slide"
    }
   },
   "source": [
    "<h1>Notes on usage<h1>\n",
    "\n",
    "  * Shuffling data is bad\n",
    "  * Lazy evaluation\n",
    "  * If you know Python or R already...\n",
    "  * Immutable\n",
    "  * Dataframes over RDDs\n",
    "  * L-BFGS and SGD\n",
    "  * Subsetting!"
   ]
  },
  {
   "cell_type": "markdown",
   "metadata": {
    "slideshow": {
     "slide_type": "subslide"
    }
   },
   "source": [
    "<h1>Shuffling<br>\n",
    "\n",
    "<img src=\"img/distributed.png\" alt=\"Spark\" style=\"width: 400px;\"/>\n"
   ]
  },
  {
   "cell_type": "markdown",
   "metadata": {
    "slideshow": {
     "slide_type": "subslide"
    }
   },
   "source": [
    "<h1>Lazy</h1><br>\n",
    "\n",
    "```python\n",
    "df['new_column'] = df['first_column'] + df['second_column']\n",
    "group = df.groupBy('state')\n",
    "state_averages = group.avg('new_column')\n",
    "```\n",
    "\n",
    "All of these commands would have gone through near-instantly, no matter the size of your data.  No processing has happened!\n",
    "\n",
    "```python\n",
    "state_averages.show()\n",
    "```\n",
    "\n",
    "Now, when you execute a command that calls for the results, there will be a delay while it processes as all of the built-up commands are executed.  "
   ]
  },
  {
   "cell_type": "markdown",
   "metadata": {
    "slideshow": {
     "slide_type": "subslide"
    }
   },
   "source": [
    "<h1>Immutable</h1><br>\n",
    "\n",
    "Mutable:\n",
    "```python\n",
    "df['new_column'] = df['first_column'] + df['second_column']\n",
    "```\n",
    "\n",
    "Immutable:\n",
    "```python\n",
    "df = df.withColumn('new_column', df['first_column'] + df['second_column'])\n",
    "```"
   ]
  },
  {
   "cell_type": "markdown",
   "metadata": {
    "collapsed": true,
    "slideshow": {
     "slide_type": "slide"
    }
   },
   "source": [
    "<h1>Challenges for social scientists<h1>\n",
    "\n",
    "  * Programming language barrier\n",
    "  * Terminology barrier\n",
    "  * P-value insignificance <a href=\"https://spark.apache.org/docs/2.2.0/api/python/pyspark.ml.html\">proof</a>\n",
    "  * Model availability <a href=\"https://urbaninstitute.github.io/spark-social-science-manual/appendix.html\">Spark ML</a>"
   ]
  },
  {
   "cell_type": "markdown",
   "metadata": {
    "slideshow": {
     "slide_type": "slide"
    }
   },
   "source": [
    "<h1>Where do I access Spark?<h1>\n",
    "\n",
    "  * Build a system on AWS <a href=\"https://github.com/UrbanInstitute/spark-social-science\">technical guide</a>\n",
    "  * Try it out on Urban/Sloan's dime <a href=\"https://adrf.urban.org/\">here</a>\n",
    "  * Databricks <a href=\"https://databricks.com/product/pricing\">pricing</a>"
   ]
  },
  {
   "cell_type": "markdown",
   "metadata": {
    "slideshow": {
     "slide_type": "slide"
    }
   },
   "source": [
    "<center><img src=https://www.urban.org/sites/all/themes/urban/images/logo.png></center>\n",
    "\n",
    "-------\n",
    "\n",
    "<center><h1>Thank you!</h1></center>\n",
    "\n",
    "Links:\n",
    "\n",
    "<a href=\"https://adrf.urban.org/\">Sloan Foundation Project Site</a>\n",
    "\n",
    "<a href=\"https://urbaninstitute.github.io/spark-social-science-manual/\">Urban's Spark Manual</a>\n",
    "\n",
    "<a href=\"https://github.com/UrbanInstitute/pyspark-tutorials\">Urban's pySpark Tutorials</a>\n",
    "\n",
    "<a href=\"https://github.com/UrbanInstitute/sparkr-tutorials\">Urban's SparkR Tutorials</a>"
   ]
  },
  {
   "cell_type": "code",
   "execution_count": null,
   "metadata": {
    "collapsed": true
   },
   "outputs": [],
   "source": []
  }
 ],
 "metadata": {
  "celltoolbar": "Slideshow",
  "kernelspec": {
   "display_name": "Python 3",
   "language": "python",
   "name": "python3"
  },
  "language_info": {
   "codemirror_mode": {
    "name": "ipython",
    "version": 3
   },
   "file_extension": ".py",
   "mimetype": "text/x-python",
   "name": "python",
   "nbconvert_exporter": "python",
   "pygments_lexer": "ipython3",
   "version": "3.5.4"
  }
 },
 "nbformat": 4,
 "nbformat_minor": 2
}
